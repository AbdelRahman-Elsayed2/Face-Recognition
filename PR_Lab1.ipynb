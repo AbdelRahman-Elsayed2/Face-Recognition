{
  "cells": [
    {
      "cell_type": "markdown",
      "metadata": {
        "id": "3U6ww4Bl1hDI"
      },
      "source": [
        "# PR Lab 1: Face Recognition\n",
        "#####Abdelrahman Elsayed - 20010795\n",
        "#####Mohamed Amr Abdelfattah - 20011675\n",
        "#####Omar Tarek Abdelwahab - 20010998"
      ]
    },
    {
      "cell_type": "code",
      "execution_count": null,
      "metadata": {
        "colab": {
          "base_uri": "https://localhost:8080/"
        },
        "id": "7RcsCxQpmyHB",
        "outputId": "1a9d27a0-208e-4541-feb4-98d23751a89d"
      },
      "outputs": [
        {
          "output_type": "stream",
          "name": "stdout",
          "text": [
            "Requirement already satisfied: kaggle in /usr/local/lib/python3.10/dist-packages (1.5.16)\n",
            "Requirement already satisfied: six>=1.10 in /usr/local/lib/python3.10/dist-packages (from kaggle) (1.16.0)\n",
            "Requirement already satisfied: certifi in /usr/local/lib/python3.10/dist-packages (from kaggle) (2024.2.2)\n",
            "Requirement already satisfied: python-dateutil in /usr/local/lib/python3.10/dist-packages (from kaggle) (2.8.2)\n",
            "Requirement already satisfied: requests in /usr/local/lib/python3.10/dist-packages (from kaggle) (2.31.0)\n",
            "Requirement already satisfied: tqdm in /usr/local/lib/python3.10/dist-packages (from kaggle) (4.66.2)\n",
            "Requirement already satisfied: python-slugify in /usr/local/lib/python3.10/dist-packages (from kaggle) (8.0.4)\n",
            "Requirement already satisfied: urllib3 in /usr/local/lib/python3.10/dist-packages (from kaggle) (2.0.7)\n",
            "Requirement already satisfied: bleach in /usr/local/lib/python3.10/dist-packages (from kaggle) (6.1.0)\n",
            "Requirement already satisfied: webencodings in /usr/local/lib/python3.10/dist-packages (from bleach->kaggle) (0.5.1)\n",
            "Requirement already satisfied: text-unidecode>=1.3 in /usr/local/lib/python3.10/dist-packages (from python-slugify->kaggle) (1.3)\n",
            "Requirement already satisfied: charset-normalizer<4,>=2 in /usr/local/lib/python3.10/dist-packages (from requests->kaggle) (3.3.2)\n",
            "Requirement already satisfied: idna<4,>=2.5 in /usr/local/lib/python3.10/dist-packages (from requests->kaggle) (3.6)\n"
          ]
        }
      ],
      "source": [
        "! pip install kaggle"
      ]
    },
    {
      "cell_type": "code",
      "execution_count": null,
      "metadata": {
        "colab": {
          "base_uri": "https://localhost:8080/"
        },
        "id": "Qloa_wqTx36j",
        "outputId": "6deef687-202d-4b52-bc14-cf3d53eef649"
      },
      "outputs": [
        {
          "output_type": "stream",
          "name": "stdout",
          "text": [
            "Mounted at /content/drive\n"
          ]
        }
      ],
      "source": [
        "from google.colab import drive\n",
        "drive.mount(\"/content/drive\")"
      ]
    },
    {
      "cell_type": "code",
      "execution_count": null,
      "metadata": {
        "id": "DkC59OwGyFzo"
      },
      "outputs": [],
      "source": [
        "! mkdir ~/.kaggle"
      ]
    },
    {
      "cell_type": "code",
      "execution_count": null,
      "metadata": {
        "id": "nsdkkWHyzAJH"
      },
      "outputs": [],
      "source": [
        "! cp /content/drive/MyDrive/kaggle_token/kaggle.json ~/.kaggle/"
      ]
    },
    {
      "cell_type": "code",
      "execution_count": null,
      "metadata": {
        "id": "6mpmc5CX0tJS"
      },
      "outputs": [],
      "source": [
        "! chmod 600 ~/.kaggle/kaggle.json"
      ]
    },
    {
      "cell_type": "code",
      "execution_count": null,
      "metadata": {
        "colab": {
          "base_uri": "https://localhost:8080/"
        },
        "id": "IQbZVMc90zgq",
        "outputId": "7598dd29-1a2c-4675-b2e4-5f4401cb63fd"
      },
      "outputs": [
        {
          "output_type": "stream",
          "name": "stdout",
          "text": [
            "Downloading att-database-of-faces.zip to /content\n",
            "\r  0% 0.00/3.61M [00:00<?, ?B/s]\n",
            "\r100% 3.61M/3.61M [00:00<00:00, 174MB/s]\n"
          ]
        }
      ],
      "source": [
        "! kaggle datasets download kasikrit/att-database-of-faces"
      ]
    },
    {
      "cell_type": "code",
      "execution_count": null,
      "metadata": {
        "colab": {
          "base_uri": "https://localhost:8080/"
        },
        "id": "LqjGasAj1Syj",
        "outputId": "914bcb31-8727-4baa-a7e1-839b1e1a24fb"
      },
      "outputs": [
        {
          "output_type": "stream",
          "name": "stdout",
          "text": [
            "Archive:  att-database-of-faces.zip\n",
            "  inflating: README                  \n",
            "  inflating: s1/1.pgm                \n",
            "  inflating: s1/10.pgm               \n",
            "  inflating: s1/2.pgm                \n",
            "  inflating: s1/3.pgm                \n",
            "  inflating: s1/4.pgm                \n",
            "  inflating: s1/5.pgm                \n",
            "  inflating: s1/6.pgm                \n",
            "  inflating: s1/7.pgm                \n",
            "  inflating: s1/8.pgm                \n",
            "  inflating: s1/9.pgm                \n",
            "  inflating: s10/1.pgm               \n",
            "  inflating: s10/10.pgm              \n",
            "  inflating: s10/2.pgm               \n",
            "  inflating: s10/3.pgm               \n",
            "  inflating: s10/4.pgm               \n",
            "  inflating: s10/5.pgm               \n",
            "  inflating: s10/6.pgm               \n",
            "  inflating: s10/7.pgm               \n",
            "  inflating: s10/8.pgm               \n",
            "  inflating: s10/9.pgm               \n",
            "  inflating: s11/1.pgm               \n",
            "  inflating: s11/10.pgm              \n",
            "  inflating: s11/2.pgm               \n",
            "  inflating: s11/3.pgm               \n",
            "  inflating: s11/4.pgm               \n",
            "  inflating: s11/5.pgm               \n",
            "  inflating: s11/6.pgm               \n",
            "  inflating: s11/7.pgm               \n",
            "  inflating: s11/8.pgm               \n",
            "  inflating: s11/9.pgm               \n",
            "  inflating: s12/1.pgm               \n",
            "  inflating: s12/10.pgm              \n",
            "  inflating: s12/2.pgm               \n",
            "  inflating: s12/3.pgm               \n",
            "  inflating: s12/4.pgm               \n",
            "  inflating: s12/5.pgm               \n",
            "  inflating: s12/6.pgm               \n",
            "  inflating: s12/7.pgm               \n",
            "  inflating: s12/8.pgm               \n",
            "  inflating: s12/9.pgm               \n",
            "  inflating: s13/1.pgm               \n",
            "  inflating: s13/10.pgm              \n",
            "  inflating: s13/2.pgm               \n",
            "  inflating: s13/3.pgm               \n",
            "  inflating: s13/4.pgm               \n",
            "  inflating: s13/5.pgm               \n",
            "  inflating: s13/6.pgm               \n",
            "  inflating: s13/7.pgm               \n",
            "  inflating: s13/8.pgm               \n",
            "  inflating: s13/9.pgm               \n",
            "  inflating: s14/1.pgm               \n",
            "  inflating: s14/10.pgm              \n",
            "  inflating: s14/2.pgm               \n",
            "  inflating: s14/3.pgm               \n",
            "  inflating: s14/4.pgm               \n",
            "  inflating: s14/5.pgm               \n",
            "  inflating: s14/6.pgm               \n",
            "  inflating: s14/7.pgm               \n",
            "  inflating: s14/8.pgm               \n",
            "  inflating: s14/9.pgm               \n",
            "  inflating: s15/1.pgm               \n",
            "  inflating: s15/10.pgm              \n",
            "  inflating: s15/2.pgm               \n",
            "  inflating: s15/3.pgm               \n",
            "  inflating: s15/4.pgm               \n",
            "  inflating: s15/5.pgm               \n",
            "  inflating: s15/6.pgm               \n",
            "  inflating: s15/7.pgm               \n",
            "  inflating: s15/8.pgm               \n",
            "  inflating: s15/9.pgm               \n",
            "  inflating: s16/1.pgm               \n",
            "  inflating: s16/10.pgm              \n",
            "  inflating: s16/2.pgm               \n",
            "  inflating: s16/3.pgm               \n",
            "  inflating: s16/4.pgm               \n",
            "  inflating: s16/5.pgm               \n",
            "  inflating: s16/6.pgm               \n",
            "  inflating: s16/7.pgm               \n",
            "  inflating: s16/8.pgm               \n",
            "  inflating: s16/9.pgm               \n",
            "  inflating: s17/1.pgm               \n",
            "  inflating: s17/10.pgm              \n",
            "  inflating: s17/2.pgm               \n",
            "  inflating: s17/3.pgm               \n",
            "  inflating: s17/4.pgm               \n",
            "  inflating: s17/5.pgm               \n",
            "  inflating: s17/6.pgm               \n",
            "  inflating: s17/7.pgm               \n",
            "  inflating: s17/8.pgm               \n",
            "  inflating: s17/9.pgm               \n",
            "  inflating: s18/1.pgm               \n",
            "  inflating: s18/10.pgm              \n",
            "  inflating: s18/2.pgm               \n",
            "  inflating: s18/3.pgm               \n",
            "  inflating: s18/4.pgm               \n",
            "  inflating: s18/5.pgm               \n",
            "  inflating: s18/6.pgm               \n",
            "  inflating: s18/7.pgm               \n",
            "  inflating: s18/8.pgm               \n",
            "  inflating: s18/9.pgm               \n",
            "  inflating: s19/1.pgm               \n",
            "  inflating: s19/10.pgm              \n",
            "  inflating: s19/2.pgm               \n",
            "  inflating: s19/3.pgm               \n",
            "  inflating: s19/4.pgm               \n",
            "  inflating: s19/5.pgm               \n",
            "  inflating: s19/6.pgm               \n",
            "  inflating: s19/7.pgm               \n",
            "  inflating: s19/8.pgm               \n",
            "  inflating: s19/9.pgm               \n",
            "  inflating: s2/1.pgm                \n",
            "  inflating: s2/10.pgm               \n",
            "  inflating: s2/2.pgm                \n",
            "  inflating: s2/3.pgm                \n",
            "  inflating: s2/4.pgm                \n",
            "  inflating: s2/5.pgm                \n",
            "  inflating: s2/6.pgm                \n",
            "  inflating: s2/7.pgm                \n",
            "  inflating: s2/8.pgm                \n",
            "  inflating: s2/9.pgm                \n",
            "  inflating: s20/1.pgm               \n",
            "  inflating: s20/10.pgm              \n",
            "  inflating: s20/2.pgm               \n",
            "  inflating: s20/3.pgm               \n",
            "  inflating: s20/4.pgm               \n",
            "  inflating: s20/5.pgm               \n",
            "  inflating: s20/6.pgm               \n",
            "  inflating: s20/7.pgm               \n",
            "  inflating: s20/8.pgm               \n",
            "  inflating: s20/9.pgm               \n",
            "  inflating: s21/1.pgm               \n",
            "  inflating: s21/10.pgm              \n",
            "  inflating: s21/2.pgm               \n",
            "  inflating: s21/3.pgm               \n",
            "  inflating: s21/4.pgm               \n",
            "  inflating: s21/5.pgm               \n",
            "  inflating: s21/6.pgm               \n",
            "  inflating: s21/7.pgm               \n",
            "  inflating: s21/8.pgm               \n",
            "  inflating: s21/9.pgm               \n",
            "  inflating: s22/1.pgm               \n",
            "  inflating: s22/10.pgm              \n",
            "  inflating: s22/2.pgm               \n",
            "  inflating: s22/3.pgm               \n",
            "  inflating: s22/4.pgm               \n",
            "  inflating: s22/5.pgm               \n",
            "  inflating: s22/6.pgm               \n",
            "  inflating: s22/7.pgm               \n",
            "  inflating: s22/8.pgm               \n",
            "  inflating: s22/9.pgm               \n",
            "  inflating: s23/1.pgm               \n",
            "  inflating: s23/10.pgm              \n",
            "  inflating: s23/2.pgm               \n",
            "  inflating: s23/3.pgm               \n",
            "  inflating: s23/4.pgm               \n",
            "  inflating: s23/5.pgm               \n",
            "  inflating: s23/6.pgm               \n",
            "  inflating: s23/7.pgm               \n",
            "  inflating: s23/8.pgm               \n",
            "  inflating: s23/9.pgm               \n",
            "  inflating: s24/1.pgm               \n",
            "  inflating: s24/10.pgm              \n",
            "  inflating: s24/2.pgm               \n",
            "  inflating: s24/3.pgm               \n",
            "  inflating: s24/4.pgm               \n",
            "  inflating: s24/5.pgm               \n",
            "  inflating: s24/6.pgm               \n",
            "  inflating: s24/7.pgm               \n",
            "  inflating: s24/8.pgm               \n",
            "  inflating: s24/9.pgm               \n",
            "  inflating: s25/1.pgm               \n",
            "  inflating: s25/10.pgm              \n",
            "  inflating: s25/2.pgm               \n",
            "  inflating: s25/3.pgm               \n",
            "  inflating: s25/4.pgm               \n",
            "  inflating: s25/5.pgm               \n",
            "  inflating: s25/6.pgm               \n",
            "  inflating: s25/7.pgm               \n",
            "  inflating: s25/8.pgm               \n",
            "  inflating: s25/9.pgm               \n",
            "  inflating: s26/1.pgm               \n",
            "  inflating: s26/10.pgm              \n",
            "  inflating: s26/2.pgm               \n",
            "  inflating: s26/3.pgm               \n",
            "  inflating: s26/4.pgm               \n",
            "  inflating: s26/5.pgm               \n",
            "  inflating: s26/6.pgm               \n",
            "  inflating: s26/7.pgm               \n",
            "  inflating: s26/8.pgm               \n",
            "  inflating: s26/9.pgm               \n",
            "  inflating: s27/1.pgm               \n",
            "  inflating: s27/10.pgm              \n",
            "  inflating: s27/2.pgm               \n",
            "  inflating: s27/3.pgm               \n",
            "  inflating: s27/4.pgm               \n",
            "  inflating: s27/5.pgm               \n",
            "  inflating: s27/6.pgm               \n",
            "  inflating: s27/7.pgm               \n",
            "  inflating: s27/8.pgm               \n",
            "  inflating: s27/9.pgm               \n",
            "  inflating: s28/1.pgm               \n",
            "  inflating: s28/10.pgm              \n",
            "  inflating: s28/2.pgm               \n",
            "  inflating: s28/3.pgm               \n",
            "  inflating: s28/4.pgm               \n",
            "  inflating: s28/5.pgm               \n",
            "  inflating: s28/6.pgm               \n",
            "  inflating: s28/7.pgm               \n",
            "  inflating: s28/8.pgm               \n",
            "  inflating: s28/9.pgm               \n",
            "  inflating: s29/1.pgm               \n",
            "  inflating: s29/10.pgm              \n",
            "  inflating: s29/2.pgm               \n",
            "  inflating: s29/3.pgm               \n",
            "  inflating: s29/4.pgm               \n",
            "  inflating: s29/5.pgm               \n",
            "  inflating: s29/6.pgm               \n",
            "  inflating: s29/7.pgm               \n",
            "  inflating: s29/8.pgm               \n",
            "  inflating: s29/9.pgm               \n",
            "  inflating: s3/1.pgm                \n",
            "  inflating: s3/10.pgm               \n",
            "  inflating: s3/2.pgm                \n",
            "  inflating: s3/3.pgm                \n",
            "  inflating: s3/4.pgm                \n",
            "  inflating: s3/5.pgm                \n",
            "  inflating: s3/6.pgm                \n",
            "  inflating: s3/7.pgm                \n",
            "  inflating: s3/8.pgm                \n",
            "  inflating: s3/9.pgm                \n",
            "  inflating: s30/1.pgm               \n",
            "  inflating: s30/10.pgm              \n",
            "  inflating: s30/2.pgm               \n",
            "  inflating: s30/3.pgm               \n",
            "  inflating: s30/4.pgm               \n",
            "  inflating: s30/5.pgm               \n",
            "  inflating: s30/6.pgm               \n",
            "  inflating: s30/7.pgm               \n",
            "  inflating: s30/8.pgm               \n",
            "  inflating: s30/9.pgm               \n",
            "  inflating: s31/1.pgm               \n",
            "  inflating: s31/10.pgm              \n",
            "  inflating: s31/2.pgm               \n",
            "  inflating: s31/3.pgm               \n",
            "  inflating: s31/4.pgm               \n",
            "  inflating: s31/5.pgm               \n",
            "  inflating: s31/6.pgm               \n",
            "  inflating: s31/7.pgm               \n",
            "  inflating: s31/8.pgm               \n",
            "  inflating: s31/9.pgm               \n",
            "  inflating: s32/1.pgm               \n",
            "  inflating: s32/10.pgm              \n",
            "  inflating: s32/2.pgm               \n",
            "  inflating: s32/3.pgm               \n",
            "  inflating: s32/4.pgm               \n",
            "  inflating: s32/5.pgm               \n",
            "  inflating: s32/6.pgm               \n",
            "  inflating: s32/7.pgm               \n",
            "  inflating: s32/8.pgm               \n",
            "  inflating: s32/9.pgm               \n",
            "  inflating: s33/1.pgm               \n",
            "  inflating: s33/10.pgm              \n",
            "  inflating: s33/2.pgm               \n",
            "  inflating: s33/3.pgm               \n",
            "  inflating: s33/4.pgm               \n",
            "  inflating: s33/5.pgm               \n",
            "  inflating: s33/6.pgm               \n",
            "  inflating: s33/7.pgm               \n",
            "  inflating: s33/8.pgm               \n",
            "  inflating: s33/9.pgm               \n",
            "  inflating: s34/1.pgm               \n",
            "  inflating: s34/10.pgm              \n",
            "  inflating: s34/2.pgm               \n",
            "  inflating: s34/3.pgm               \n",
            "  inflating: s34/4.pgm               \n",
            "  inflating: s34/5.pgm               \n",
            "  inflating: s34/6.pgm               \n",
            "  inflating: s34/7.pgm               \n",
            "  inflating: s34/8.pgm               \n",
            "  inflating: s34/9.pgm               \n",
            "  inflating: s35/1.pgm               \n",
            "  inflating: s35/10.pgm              \n",
            "  inflating: s35/2.pgm               \n",
            "  inflating: s35/3.pgm               \n",
            "  inflating: s35/4.pgm               \n",
            "  inflating: s35/5.pgm               \n",
            "  inflating: s35/6.pgm               \n",
            "  inflating: s35/7.pgm               \n",
            "  inflating: s35/8.pgm               \n",
            "  inflating: s35/9.pgm               \n",
            "  inflating: s36/1.pgm               \n",
            "  inflating: s36/10.pgm              \n",
            "  inflating: s36/2.pgm               \n",
            "  inflating: s36/3.pgm               \n",
            "  inflating: s36/4.pgm               \n",
            "  inflating: s36/5.pgm               \n",
            "  inflating: s36/6.pgm               \n",
            "  inflating: s36/7.pgm               \n",
            "  inflating: s36/8.pgm               \n",
            "  inflating: s36/9.pgm               \n",
            "  inflating: s37/1.pgm               \n",
            "  inflating: s37/10.pgm              \n",
            "  inflating: s37/2.pgm               \n",
            "  inflating: s37/3.pgm               \n",
            "  inflating: s37/4.pgm               \n",
            "  inflating: s37/5.pgm               \n",
            "  inflating: s37/6.pgm               \n",
            "  inflating: s37/7.pgm               \n",
            "  inflating: s37/8.pgm               \n",
            "  inflating: s37/9.pgm               \n",
            "  inflating: s38/1.pgm               \n",
            "  inflating: s38/10.pgm              \n",
            "  inflating: s38/2.pgm               \n",
            "  inflating: s38/3.pgm               \n",
            "  inflating: s38/4.pgm               \n",
            "  inflating: s38/5.pgm               \n",
            "  inflating: s38/6.pgm               \n",
            "  inflating: s38/7.pgm               \n",
            "  inflating: s38/8.pgm               \n",
            "  inflating: s38/9.pgm               \n",
            "  inflating: s39/1.pgm               \n",
            "  inflating: s39/10.pgm              \n",
            "  inflating: s39/2.pgm               \n",
            "  inflating: s39/3.pgm               \n",
            "  inflating: s39/4.pgm               \n",
            "  inflating: s39/5.pgm               \n",
            "  inflating: s39/6.pgm               \n",
            "  inflating: s39/7.pgm               \n",
            "  inflating: s39/8.pgm               \n",
            "  inflating: s39/9.pgm               \n",
            "  inflating: s4/1.pgm                \n",
            "  inflating: s4/10.pgm               \n",
            "  inflating: s4/2.pgm                \n",
            "  inflating: s4/3.pgm                \n",
            "  inflating: s4/4.pgm                \n",
            "  inflating: s4/5.pgm                \n",
            "  inflating: s4/6.pgm                \n",
            "  inflating: s4/7.pgm                \n",
            "  inflating: s4/8.pgm                \n",
            "  inflating: s4/9.pgm                \n",
            "  inflating: s40/1.pgm               \n",
            "  inflating: s40/10.pgm              \n",
            "  inflating: s40/2.pgm               \n",
            "  inflating: s40/3.pgm               \n",
            "  inflating: s40/4.pgm               \n",
            "  inflating: s40/5.pgm               \n",
            "  inflating: s40/6.pgm               \n",
            "  inflating: s40/7.pgm               \n",
            "  inflating: s40/8.pgm               \n",
            "  inflating: s40/9.pgm               \n",
            "  inflating: s5/1.pgm                \n",
            "  inflating: s5/10.pgm               \n",
            "  inflating: s5/2.pgm                \n",
            "  inflating: s5/3.pgm                \n",
            "  inflating: s5/4.pgm                \n",
            "  inflating: s5/5.pgm                \n",
            "  inflating: s5/6.pgm                \n",
            "  inflating: s5/7.pgm                \n",
            "  inflating: s5/8.pgm                \n",
            "  inflating: s5/9.pgm                \n",
            "  inflating: s6/1.pgm                \n",
            "  inflating: s6/10.pgm               \n",
            "  inflating: s6/2.pgm                \n",
            "  inflating: s6/3.pgm                \n",
            "  inflating: s6/4.pgm                \n",
            "  inflating: s6/5.pgm                \n",
            "  inflating: s6/6.pgm                \n",
            "  inflating: s6/7.pgm                \n",
            "  inflating: s6/8.pgm                \n",
            "  inflating: s6/9.pgm                \n",
            "  inflating: s7/1.pgm                \n",
            "  inflating: s7/10.pgm               \n",
            "  inflating: s7/2.pgm                \n",
            "  inflating: s7/3.pgm                \n",
            "  inflating: s7/4.pgm                \n",
            "  inflating: s7/5.pgm                \n",
            "  inflating: s7/6.pgm                \n",
            "  inflating: s7/7.pgm                \n",
            "  inflating: s7/8.pgm                \n",
            "  inflating: s7/9.pgm                \n",
            "  inflating: s8/1.pgm                \n",
            "  inflating: s8/10.pgm               \n",
            "  inflating: s8/2.pgm                \n",
            "  inflating: s8/3.pgm                \n",
            "  inflating: s8/4.pgm                \n",
            "  inflating: s8/5.pgm                \n",
            "  inflating: s8/6.pgm                \n",
            "  inflating: s8/7.pgm                \n",
            "  inflating: s8/8.pgm                \n",
            "  inflating: s8/9.pgm                \n",
            "  inflating: s9/1.pgm                \n",
            "  inflating: s9/10.pgm               \n",
            "  inflating: s9/2.pgm                \n",
            "  inflating: s9/3.pgm                \n",
            "  inflating: s9/4.pgm                \n",
            "  inflating: s9/5.pgm                \n",
            "  inflating: s9/6.pgm                \n",
            "  inflating: s9/7.pgm                \n",
            "  inflating: s9/8.pgm                \n",
            "  inflating: s9/9.pgm                \n"
          ]
        }
      ],
      "source": [
        "! unzip att-database-of-faces.zip"
      ]
    },
    {
      "cell_type": "markdown",
      "metadata": {
        "id": "jdvOnDWG37FS"
      },
      "source": [
        "##Imports"
      ]
    },
    {
      "cell_type": "code",
      "execution_count": null,
      "metadata": {
        "id": "ZZ2tf07X394j"
      },
      "outputs": [],
      "source": [
        "import numpy as np\n",
        "import os\n",
        "import cv2\n",
        "import matplotlib.pyplot as plt\n",
        "from numpy.linalg import *\n",
        "from numpy import asarray\n",
        "from PIL import Image\n",
        "from sklearn.neighbors import KNeighborsClassifier\n",
        "from sklearn.metrics import accuracy_score"
      ]
    },
    {
      "cell_type": "markdown",
      "metadata": {
        "id": "fkFKIOpTa1YH"
      },
      "source": [
        "\n",
        "\n",
        "```\n",
        "# This is formatted as code\n",
        "```\n",
        "\n",
        "# Insert Non-Faces Data"
      ]
    },
    {
      "cell_type": "code",
      "execution_count": null,
      "metadata": {
        "colab": {
          "base_uri": "https://localhost:8080/"
        },
        "id": "v4KGPFCjbC_U",
        "outputId": "da9dd15b-c328-4491-abec-af12f3a41140"
      },
      "outputs": [
        {
          "output_type": "stream",
          "name": "stdout",
          "text": [
            "['nf18', 'nf11', 'nf15', 'nf14', 'nf1', 'nf12', 'nf17', 'nf10', 'nf16', 'nf13', 'nf20', 'nf21', 'nf26', 'nf2', 'nf19', 'nf22', 'nf23', 'nf25', 'nf24', 'nf27', 'nf3', 'nf32', 'nf28', 'nf35', 'nf34', 'nf33', 'nf31', 'nf36', 'nf30', 'nf29', 'nf9', 'nf39', 'nf7', 'nf40', 'nf38', 'nf8', 'nf37', 'nf5', 'nf6', 'nf4']\n"
          ]
        }
      ],
      "source": [
        "# Define the path to the folder containing the images\n",
        "folder_path = '/content/drive/My Drive/modified'\n",
        "file_list = os.listdir(folder_path)\n",
        "print(file_list)"
      ]
    },
    {
      "cell_type": "markdown",
      "metadata": {
        "id": "HazzSiHb2ivN"
      },
      "source": [
        "##2. Data Matrix and Label Vector"
      ]
    },
    {
      "cell_type": "markdown",
      "metadata": {
        "id": "Q37o_7XXBva8"
      },
      "source": [
        "#####Image dimensions (w * h) = (92 * 112)\n",
        "#####As nparray (rows * columns) = (112 * 92)"
      ]
    },
    {
      "cell_type": "code",
      "execution_count": null,
      "metadata": {
        "id": "eGHKk_1HeeAk"
      },
      "outputs": [],
      "source": [
        "#Read non faces images\n",
        "rows_list_nonFace = []\n",
        "for subFolderName in file_list:\n",
        "  subFolder_path = os.path.join(folder_path,subFolderName)\n",
        "  img_list = os.listdir(subFolder_path)\n",
        "  for img in img_list:\n",
        "    image_path = os.path.join(subFolder_path,img)\n",
        "    img = cv2.imread(image_path)\n",
        "    gray_image = cv2.cvtColor(img, cv2.COLOR_BGR2GRAY)\n",
        "    rows_list_nonFace.append(\n",
        "        asarray(gray_image).reshape((1, 112*92))\n",
        "    )\n",
        "# data matrix\n",
        "data_nonFace = np.vstack(tuple(rows_list_nonFace))\n"
      ]
    },
    {
      "cell_type": "code",
      "execution_count": null,
      "metadata": {
        "id": "vAm-oYmy-Sje"
      },
      "outputs": [],
      "source": [
        "# label vector non face\n",
        "labels_lst_nface = [1 for y in range(1, 40 + 1) for x in range(1, 10 + 1)]\n",
        "labels_nface = np.array(labels_lst_nface)\n",
        "labels_nface = labels_nface.reshape((400, 1))"
      ]
    },
    {
      "cell_type": "code",
      "execution_count": null,
      "metadata": {
        "id": "7AuSUkLxtkga"
      },
      "outputs": [],
      "source": [
        "labels.shape"
      ]
    },
    {
      "cell_type": "code",
      "execution_count": null,
      "metadata": {
        "id": "J0NYrG8M6alJ"
      },
      "outputs": [],
      "source": [
        "# reading each image\n",
        "# then converting it to a row vector\n",
        "rows_list_face = []\n",
        "for i in range(1, 40 + 1):\n",
        "  for j in range(1, 10 + 1):\n",
        "    img = Image.open(f\"s{i}/{j}.pgm\")\n",
        "    rows_list_face .append(\n",
        "        asarray(img).reshape((1, 112*92))\n",
        "    )\n",
        "# data matrix\n",
        "data_faces = np.vstack(tuple(rows_list_face ))"
      ]
    },
    {
      "cell_type": "code",
      "execution_count": null,
      "metadata": {
        "id": "JNDGmklAAxE2"
      },
      "outputs": [],
      "source": [
        "# labels vector face for compare with non face\n",
        "labels_lst_face = [2 for y in range(1, 40 + 1) for x in range(1, 10 + 1)]\n",
        "labels_face = np.array(labels_lst_face)\n",
        "labels_face = labels_face.reshape((400, 1))"
      ]
    },
    {
      "cell_type": "code",
      "execution_count": null,
      "metadata": {
        "id": "plupA8XOmv4n"
      },
      "outputs": [],
      "source": [
        "labels_lst = [y for y in range(1, 40 + 1) for x in range(1, 10 + 1)]\n",
        "labels = np.array(labels_lst)\n",
        "labels = labels.reshape((400, 1))"
      ]
    },
    {
      "cell_type": "markdown",
      "metadata": {
        "id": "F8sK_GU9kYE5"
      },
      "source": [
        "##3. Splitting The Dataset"
      ]
    },
    {
      "cell_type": "code",
      "execution_count": null,
      "metadata": {
        "id": "pU_TXFRu_UM6"
      },
      "outputs": [],
      "source": [
        "#Function for split data\n",
        "def split_data(rows_list):\n",
        "  #odd rows for training\n",
        "  training_data = np.vstack(tuple(\n",
        "        [rows_list[i] for i in range(1, len(rows_list), 2)]\n",
        "  ))\n",
        "\n",
        "  #even rows for testing\n",
        "  testing_data = np.vstack(tuple(\n",
        "    [rows_list[i] for i in range(0, len(rows_list), 2)]\n",
        "  ))\n",
        "  return training_data,testing_data"
      ]
    },
    {
      "cell_type": "code",
      "execution_count": null,
      "metadata": {
        "id": "sd6c_-XU_zLL"
      },
      "outputs": [],
      "source": [
        "#Function for split labels\n",
        "def split_labels(labels):\n",
        "  training_labels = np.array(\n",
        "    [labels[i] for i in range(1, len(labels), 2)]\n",
        "  ).reshape((len(labels)//2, 1))\n",
        "  testing_labels = np.array(\n",
        "    [labels[i] for i in range(0, len(labels), 2)]\n",
        "  ).reshape((len(labels)//2, 1))\n",
        "  return training_labels, testing_labels"
      ]
    },
    {
      "cell_type": "markdown",
      "metadata": {
        "id": "gOysQnrOv7_O"
      },
      "source": [
        "##4. Classification Using PCA"
      ]
    },
    {
      "cell_type": "code",
      "execution_count": null,
      "metadata": {
        "id": "PMXsa3uuvVzQ"
      },
      "outputs": [],
      "source": [
        "def sort_eigen(eigenvalues, eigenvectors):\n",
        "  idx = eigenvalues.argsort()[::-1]\n",
        "  sorted_eval = eigenvalues[idx]\n",
        "  sorted_evec = eigenvectors[:,idx]\n",
        "  return sorted_eval, sorted_evec\n",
        "\n",
        "def reduce_dimensionality(cov_eigenval, cov_eigenvec, alpha):\n",
        "  # returns the projection matrix for given alpha\n",
        "  # eigenvalues and eigenvectors must be sorted\n",
        "\n",
        "  total_variance = np.sum(cov_eigenval)\n",
        "\n",
        "  # current sum of chosen dominant eigenvalues\n",
        "  curr_eigensum = 0\n",
        "  # index to eigenvalue index list\n",
        "  curr_eig_index = 0\n",
        "\n",
        "  while curr_eigensum / total_variance < alpha:\n",
        "    #updating the dominant eigenvalues sum\n",
        "    curr_eigensum +=  cov_eigenval[curr_eig_index]\n",
        "    curr_eig_index += 1\n",
        "\n",
        "  return cov_eigenvec.T[:curr_eig_index + 1].T\n",
        "  # return cov_eigenvec.T[:curr_eig_index + 1].T.real\n",
        "\n",
        "\n",
        "def covariance_eigens_from_data(data: np.ndarray):\n",
        "  \"\"\"\n",
        "  input:\n",
        "    - training data matrix (n*d)\n",
        "  output:\n",
        "    - eigenvalues and eigenvectors of the covaraince matrix (d*d).\n",
        "  \"\"\"\n",
        "  n, d = data.shape\n",
        "  mean_vec = data.T @ np.ones((n, 1)) / n\n",
        "  centered_data = data - np.ones((n, 1)) @ mean_vec.T\n",
        "  #d*d --> very large, needs to be optimized\n",
        "  covariance_mat = centered_data.T @ centered_data / n\n",
        "  return eigh(covariance_mat)\n"
      ]
    },
    {
      "cell_type": "code",
      "execution_count": null,
      "metadata": {
        "id": "9LygqXueYp4K"
      },
      "outputs": [],
      "source": [
        "def normalize_data(mat):\n",
        "  mat_min = mat.min(axis=0)\n",
        "  mat_max = mat.max(axis=0)\n",
        "  return np.uint8(np.round(255 * (mat - mat_min) / (mat_max- mat_min) ))"
      ]
    },
    {
      "cell_type": "code",
      "execution_count": null,
      "metadata": {
        "id": "og6pCI-flV2_"
      },
      "outputs": [],
      "source": [
        "def pca (training_data):\n",
        "  # eigens from pca\n",
        "  eigenval, eigenvec = covariance_eigens_from_data(training_data)\n",
        "\n",
        "  #sorting eigens\n",
        "  return sort_eigen(eigenval, eigenvec)\n",
        "\n",
        "\n",
        "def classify_faces(\n",
        "    training_mat,\n",
        "    training_labels,\n",
        "    testing_mat,\n",
        "    testing_labels,\n",
        "    sorted_eigenval,\n",
        "    sorted_eigenvec,\n",
        "    alpha_list\n",
        "    ):\n",
        "  accuracy_list = []\n",
        "\n",
        "  for alpha in alpha_list:\n",
        "    # projection matrix\n",
        "    proj_mat = reduce_dimensionality(sorted_eigenval, sorted_eigenvec, alpha)\n",
        "\n",
        "    # reduction of training and testing data\n",
        "    reduced_training = training_mat @ proj_mat\n",
        "    reduced_testing = testing_mat @ proj_mat\n",
        "\n",
        "    knn = KNeighborsClassifier(n_neighbors=1)\n",
        "    knn.fit(reduced_training, training_labels)\n",
        "\n",
        "    accuracy_list.append(\n",
        "        accuracy_score(testing_labels, knn.predict(reduced_testing))\n",
        "    )\n",
        "\n",
        "  return accuracy_list\n",
        "\n"
      ]
    },
    {
      "cell_type": "code",
      "execution_count": null,
      "metadata": {
        "id": "n01XWd3_8Xdi"
      },
      "outputs": [],
      "source": [
        "\n",
        "training_data_faces , testing_data_faces = split_data(rows_list_face)\n",
        "training_labels_faces , testing_labels_faces = split_labels(labels)\n",
        "# sorted_eigenval, sorted_eigenvec = pca(training_data_faces)"
      ]
    },
    {
      "cell_type": "code",
      "execution_count": null,
      "metadata": {
        "id": "U_1CU1NSxYbt"
      },
      "outputs": [],
      "source": [
        "alpha_list = [0.8, 0.85, 0.9, 0.95]\n"
      ]
    },
    {
      "cell_type": "code",
      "execution_count": null,
      "metadata": {
        "id": "_5hUhN_Mpi0R"
      },
      "outputs": [],
      "source": [
        "accuracy_list = classify_faces(\n",
        "    training_data_faces,\n",
        "    training_labels_faces,\n",
        "    testing_data_faces,\n",
        "    testing_labels_faces,\n",
        "    sorted_eigenval,\n",
        "    sorted_eigenvec,\n",
        "    alpha_list\n",
        ")"
      ]
    },
    {
      "cell_type": "code",
      "execution_count": null,
      "metadata": {
        "id": "WQCdj-HHxoSs"
      },
      "outputs": [],
      "source": [
        "accuracy_list"
      ]
    },
    {
      "cell_type": "code",
      "execution_count": null,
      "metadata": {
        "id": "0S3OVntsLAGw"
      },
      "outputs": [],
      "source": [
        "def getD(training_data, cluster_size):\n",
        "  ind = 0\n",
        "  D = []\n",
        "  while ind < len(training_data):\n",
        "    group = np.array(training_data[ind])\n",
        "    for i in range(ind+1, ind + cluster_size):\n",
        "      group = np.vstack([group, training_data[i]])\n",
        "    ind += cluster_size\n",
        "    D.append(group)\n",
        "  return D"
      ]
    },
    {
      "cell_type": "markdown",
      "metadata": {
        "id": "PpOVNqq1lasI"
      },
      "source": [
        "D = getD(training_data_faces, 5)\n",
        "print(len(D))\n",
        "print(D[0].shape)\n",
        "print(D)"
      ]
    },
    {
      "cell_type": "code",
      "execution_count": null,
      "metadata": {
        "id": "mDT1S4vJmXbD"
      },
      "outputs": [],
      "source": [
        "def get_Sb(m, nks, data, D):\n",
        "  mean_total = np.mean(data, axis=0)\n",
        "  d = data.shape[1]\n",
        "  Sb = np.zeros((d, d))\n",
        "  print(mean_total.shape)\n",
        "  print(Sb.shape)\n",
        "  print(m, len(nks))\n",
        "  for k in range(m):\n",
        "    uk = np.mean(D[k], axis=0)\n",
        "    uk = (uk - mean_total).reshape(d, 1)\n",
        "    Sb += nks[k]*(uk).dot(uk.T)\n",
        "  return Sb"
      ]
    },
    {
      "cell_type": "code",
      "execution_count": null,
      "metadata": {
        "colab": {
          "base_uri": "https://localhost:8080/"
        },
        "id": "knwqSErmn6Kl",
        "outputId": "c03c835b-35c4-4f62-98c9-5099ccb9eabf"
      },
      "outputs": [
        {
          "name": "stdout",
          "output_type": "stream",
          "text": [
            "(10304,)\n",
            "(10304, 10304)\n",
            "40 40\n",
            "(10304, 10304)\n",
            "[[235278.32  232717.44  233560.64  ... -43174.56  -21703.44  -15646.88 ]\n",
            " [232717.44  230668.78  231142.03  ... -40923.52  -20191.43  -14642.46 ]\n",
            " [233560.64  231142.03  232523.155 ... -39926.72  -18941.855 -13273.41 ]\n",
            " ...\n",
            " [-43174.56  -40923.52  -39926.72  ... 360976.48  315665.12  312321.04 ]\n",
            " [-21703.44  -20191.43  -18941.855 ... 315665.12  294892.955 289157.81 ]\n",
            " [-15646.88  -14642.46  -13273.41  ... 312321.04  289157.81  289627.82 ]]\n"
          ]
        }
      ],
      "source": [
        "Sb = get_Sb(40, [5 for x in range(40)], training_data_faces, D)\n",
        "print(Sb.shape)\n",
        "print(Sb)"
      ]
    },
    {
      "cell_type": "code",
      "execution_count": null,
      "metadata": {
        "id": "Msk4wayluzhp"
      },
      "outputs": [],
      "source": [
        "def get_S(D, m, d):\n",
        "  S = np.zeros((d, d))\n",
        "  print(m, d)\n",
        "  for k in range(m):\n",
        "    mean_k = np.mean(D[k], axis=0)\n",
        "    S += (D[k] - mean_k).T.dot((D[k] - mean_k))\n",
        "  return S\n"
      ]
    },
    {
      "cell_type": "code",
      "execution_count": null,
      "metadata": {
        "colab": {
          "base_uri": "https://localhost:8080/"
        },
        "id": "r23MpEqOvgpc",
        "outputId": "cc6b5f37-26f1-4a56-e034-7785ae1c509d"
      },
      "outputs": [
        {
          "name": "stdout",
          "output_type": "stream",
          "text": [
            "40 10304\n",
            "(10304, 10304)\n",
            "[[ 28496.8  27128.2  27372.4 ...  -3977.2  -3511.6    539. ]\n",
            " [ 27128.2  28448.8  27518.6 ...  -2697.2  -2349.2   1781.6]\n",
            " [ 27372.4  27518.6  28698.4 ...  -3472.2   -923.2   3416.2]\n",
            " ...\n",
            " [ -3977.2  -2697.2  -3472.2 ... 140034.   83425.8  64222.2]\n",
            " [ -3511.6  -2349.2   -923.2 ...  83425.8  99585.6  82754.4]\n",
            " [   539.    1781.6   3416.2 ...  64222.2  82754.4 104148.8]]\n"
          ]
        }
      ],
      "source": [
        "S = get_S(D, 40, data_faces.shape[1])\n",
        "print(S.shape)\n",
        "print(S)"
      ]
    },
    {
      "cell_type": "code",
      "execution_count": null,
      "metadata": {
        "id": "YqyP5I1DxDub"
      },
      "outputs": [],
      "source": [
        "def get_eigs(SS, SB):\n",
        "  X = np.linalg.inv(SS).dot(SB)\n",
        "  w, v = np.linalg.eigh(X)\n",
        "  return w, v"
      ]
    },
    {
      "cell_type": "code",
      "execution_count": null,
      "metadata": {
        "colab": {
          "base_uri": "https://localhost:8080/"
        },
        "id": "b_DmmJEtwTKU",
        "outputId": "6a16c9e7-7d69-4a16-c537-24b1d621f0db"
      },
      "outputs": [
        {
          "name": "stdout",
          "output_type": "stream",
          "text": [
            "(10304,)\n",
            "(10304, 10304)\n"
          ]
        }
      ],
      "source": [
        "w, v = get_eigs(S, Sb)\n",
        "print(w.shape)\n",
        "print(v.shape)"
      ]
    },
    {
      "cell_type": "code",
      "execution_count": null,
      "metadata": {
        "colab": {
          "base_uri": "https://localhost:8080/"
        },
        "id": "UVxfgdS22yUb",
        "outputId": "fcf159fd-1095-4651-836a-088ffe3c0bd8"
      },
      "outputs": [
        {
          "name": "stdout",
          "output_type": "stream",
          "text": [
            "[-1.13363577e+19 -5.67599743e+18 -3.60393996e+18 ...  3.64265939e+18\n",
            "  5.62258133e+18  1.13809605e+19]\n",
            "[[ 8.48040330e-03 -3.60603806e-03  2.10800516e-02 ... -2.11763471e-02\n",
            "   3.40539171e-03 -8.32129618e-03]\n",
            " [ 8.37921947e-03 -3.19003732e-03  2.08637196e-02 ... -2.06794918e-02\n",
            "   2.95499383e-03 -8.18635779e-03]\n",
            " [ 8.17594710e-03 -3.94777442e-03  2.08026492e-02 ... -2.09376584e-02\n",
            "   3.75698090e-03 -8.02581305e-03]\n",
            " ...\n",
            " [ 9.48521935e-03 -5.38139223e-03 -4.67369325e-03 ... -3.72057109e-03\n",
            "  -5.31315225e-03  9.53644578e-03]\n",
            " [ 6.94781897e-03 -1.06247449e-02 -4.96597235e-03 ... -4.95545765e-03\n",
            "  -1.05509058e-02  7.02968690e-03]\n",
            " [-2.41868614e-03  9.39328027e-05 -2.33249788e-05 ... -5.59884875e-04\n",
            "   1.17005530e-04 -2.46233210e-03]]\n",
            "[ 1.13809605e+19 -1.13363577e+19 -5.67599743e+18 ...  5.50629424e+11\n",
            "  3.03194673e+11 -5.48866349e+10]\n",
            "[[-8.32129618e-03 -8.18635779e-03 -8.02581305e-03 ...  9.53644578e-03\n",
            "   7.02968690e-03 -2.46233210e-03]\n",
            " [ 8.48040330e-03  8.37921947e-03  8.17594710e-03 ...  9.48521935e-03\n",
            "   6.94781897e-03 -2.41868614e-03]\n",
            " [-3.60603806e-03 -3.19003732e-03 -3.94777442e-03 ... -5.38139223e-03\n",
            "  -1.06247449e-02  9.39328027e-05]\n",
            " ...\n",
            " [-2.52765996e-04 -6.56116006e-04  2.30820728e-03 ... -1.66176898e-03\n",
            "   3.13135821e-03 -1.14057407e-03]\n",
            " [ 7.15640768e-04  2.59871474e-03 -9.49673955e-03 ... -9.12839992e-04\n",
            "   1.90441579e-03 -6.12347390e-04]\n",
            " [ 5.77432617e-06  1.53099758e-04 -6.35261386e-04 ...  2.39193617e-03\n",
            "  -4.87917686e-03  3.24889923e-03]]\n"
          ]
        }
      ],
      "source": [
        "print(w)\n",
        "print(v)\n",
        "v = v.T\n",
        "idxs = np.argsort(abs(w))[::-1]\n",
        "eigenvalues = w[idxs]\n",
        "eigenvectors = v[idxs]\n",
        "print(eigenvalues)\n",
        "print(eigenvectors)"
      ]
    },
    {
      "cell_type": "code",
      "execution_count": null,
      "metadata": {
        "colab": {
          "base_uri": "https://localhost:8080/"
        },
        "id": "FdRoVHgy5PvB",
        "outputId": "21e9b742-50f7-477a-afe2-ea1c7b6cfec7"
      },
      "outputs": [
        {
          "name": "stdout",
          "output_type": "stream",
          "text": [
            "[[-8.32129618e-03 -8.18635779e-03 -8.02581305e-03 ...  9.53644578e-03\n",
            "   7.02968690e-03 -2.46233210e-03]\n",
            " [ 8.48040330e-03  8.37921947e-03  8.17594710e-03 ...  9.48521935e-03\n",
            "   6.94781897e-03 -2.41868614e-03]\n",
            " [-3.60603806e-03 -3.19003732e-03 -3.94777442e-03 ... -5.38139223e-03\n",
            "  -1.06247449e-02  9.39328027e-05]\n",
            " ...\n",
            " [-1.15655637e-03 -1.52147790e-03 -8.82948842e-04 ... -2.34212686e-03\n",
            "   1.60173638e-02  9.90543656e-03]\n",
            " [ 1.80932113e-02  1.91080445e-02  1.74053468e-02 ... -4.73034319e-03\n",
            "   1.62260503e-02  1.14929691e-02]\n",
            " [-3.46413360e-02 -3.51334515e-02 -3.38248074e-02 ...  2.15653054e-02\n",
            "   1.74646058e-02  1.96887732e-03]]\n"
          ]
        }
      ],
      "source": [
        "eigen_vectors = eigenvectors[0:39]\n",
        "print(eigen_vectors)"
      ]
    },
    {
      "cell_type": "code",
      "execution_count": null,
      "metadata": {
        "colab": {
          "base_uri": "https://localhost:8080/"
        },
        "id": "Pl73vtAk7gAb",
        "outputId": "70f6e877-eb9b-49c9-fb47-cda9d5b6d767"
      },
      "outputs": [
        {
          "name": "stdout",
          "output_type": "stream",
          "text": [
            "(39, 10304)\n",
            "(280, 39)\n",
            "(520, 39)\n"
          ]
        },
        {
          "data": {
            "text/plain": [
              "[0.8769230769230769]"
            ]
          },
          "execution_count": 200,
          "metadata": {},
          "output_type": "execute_result"
        }
      ],
      "source": [
        "def get_accuracy(\n",
        "    Proj_mat,\n",
        "    training_data,\n",
        "    testing_data,\n",
        "    training_labels,\n",
        "    testing_labels,\n",
        "    ):\n",
        "  accuracy_list = []\n",
        "\n",
        "  # reduction of training and testing data\n",
        "  print(Proj_mat.shape)\n",
        "  reduced_training = np.dot(training_data, Proj_mat.T)\n",
        "  reduced_testing = np.dot(testing_data, Proj_mat.T)\n",
        "  print(reduced_training.shape)\n",
        "  print(reduced_testing.shape)\n",
        "  knn = KNeighborsClassifier(n_neighbors=1)\n",
        "  knn.fit(reduced_training, training_labels)\n",
        "\n",
        "  accuracy_list.append(\n",
        "      accuracy_score(testing_labels, knn.predict(reduced_testing))\n",
        "  )\n",
        "\n",
        "  return accuracy_list\n",
        "get_accuracy(proj_mat, datamix, data_test, labels2, labels_test)"
      ]
    },
    {
      "cell_type": "code",
      "execution_count": null,
      "metadata": {
        "colab": {
          "base_uri": "https://localhost:8080/",
          "height": 452
        },
        "id": "i6kpoMdSrYcF",
        "outputId": "8a1c8ae4-6138-474e-b8ab-9a1aaa17688a"
      },
      "outputs": [
        {
          "name": "stdout",
          "output_type": "stream",
          "text": [
            "(39, 10304)\n"
          ]
        },
        {
          "data": {
            "image/png": "[encoded data removed]",
            "text/plain": [
              "<Figure size 640x480 with 1 Axes>"
            ]
          },
          "metadata": {},
          "output_type": "display_data"
        }
      ],
      "source": [
        "import matplotlib.pyplot as plt\n",
        "# imgs = []\n",
        "# for i in range(1,40,5):\n",
        "#   imgs.append(data[i].reshape(1, d))\n",
        "# # img = img.dot(eigen_vectors.real.T).dot(eigen_vectors.real)\n",
        "# print(img.shape)\n",
        "# plt.figure(figsize=(16, 8))\n",
        "# for i in range(5):\n",
        "#   plt.subplot(1, 5, i+1)\n",
        "#   plt.imshow(imgs[i].reshape(112, 92), cmap='gray')\n",
        "# plt.show()\n",
        "# plt.figure(figsize=(16, 8\n",
        "# ))\n",
        "# for i in range(5):\n",
        "#   plt.subplot(1, 5, i+1)\n",
        "# proj_mat = reduce_dimensionality(sorted_eigenval, sorted_eigenvec, .9)\n",
        "print(proj_mat.shape)\n",
        "plt.imshow(data_faces[1].dot(proj_mat.T).dot(proj_mat).reshape(112, 92), cmap='gray')\n",
        "# plt.imshow(data[13].reshape(112, 92), cmap='gray')\n",
        "plt.show()\n",
        "# plt.imshow(data[14].reshape(112, 92), cmap='gray')\n",
        "# plt.axis('off')"
      ]
    },
    {
      "cell_type": "markdown",
      "metadata": {
        "id": "_TPP1JgMT2OJ"
      },
      "source": [
        "**7. Compare vs Non-Face Images**"
      ]
    },
    {
      "cell_type": "code",
      "execution_count": null,
      "metadata": {
        "id": "d8FFcsByWDId"
      },
      "outputs": [],
      "source": [
        "def get_datamix(fsize, nfsize, faces, nonfaces):\n",
        "  labels2 = []\n",
        "  datamix = []\n",
        "  data_test = []\n",
        "  labels_test = []\n",
        "  ind = 0\n",
        "  step = round(fsize / 40)\n",
        "  while ind < 40:\n",
        "    for i in range(ind * 10, ind * 10 + step):\n",
        "      datamix.append(faces[i])\n",
        "      labels2.append(1)\n",
        "    for i in range(ind * 10 + step, ind * 10 + 10):\n",
        "      data_test.append(faces[i])\n",
        "      labels_test.append(1)\n",
        "    ind += 1\n",
        "  step = round(nfsize / 40)\n",
        "  ind = 0\n",
        "  while ind < 40:\n",
        "      for i in range(ind * 10, ind * 10 + step):\n",
        "        datamix.append(nonfaces[i])\n",
        "        labels2.append(2)\n",
        "      for i in range(ind * 10 + step, ind * 10 + 10):\n",
        "        data_test.append(nonfaces[i])\n",
        "        labels_test.append(2)\n",
        "      ind += 1\n",
        "\n",
        "\n",
        "  datamix = np.array(datamix)\n",
        "  labels2 = np.array(labels2)\n",
        "  data_test = np.array(data_test)\n",
        "  labels_test = np.array(labels_test)\n",
        "  return datamix, labels2, data_test, labels_test\n"
      ]
    },
    {
      "cell_type": "code",
      "execution_count": null,
      "metadata": {
        "colab": {
          "base_uri": "https://localhost:8080/"
        },
        "id": "ALpikCqXXY8M",
        "outputId": "61f210ff-0e8d-4f77-8cb7-2200b8b3c896"
      },
      "outputs": [
        {
          "name": "stdout",
          "output_type": "stream",
          "text": [
            "(400, 10304)\n",
            "(400,)\n",
            "(400, 10304)\n",
            "(400,)\n"
          ]
        }
      ],
      "source": [
        "datamix, labels2, data_test, labels_test = get_datamix(200, 200, data_faces, data_nonFace)\n",
        "print(datamix.shape)\n",
        "print(labels2.shape)\n",
        "print(data_test.shape)\n",
        "print(labels_test.shape)"
      ]
    },
    {
      "cell_type": "code",
      "execution_count": null,
      "metadata": {
        "id": "6eP_dsviYuwW"
      },
      "outputs": [],
      "source": [
        "sorted_eigenval, sorted_eigenvec = pca(datamix)"
      ]
    },
    {
      "cell_type": "code",
      "execution_count": null,
      "metadata": {
        "id": "rv3OkxuYeGhw"
      },
      "outputs": [],
      "source": [
        "def classify_faces(\n",
        "        sorted_eigenval,\n",
        "        sorted_eigenvec,\n",
        "        training_data,\n",
        "        testing_data,\n",
        "        training_labels,\n",
        "        testing_labels,\n",
        "        alpha_list,\n",
        "        ):\n",
        "\n",
        "  accuracy_list = []\n",
        "\n",
        "  for alpha in alpha_list:\n",
        "    # projection matrix\n",
        "    proj_mat = reduce_dimensionality(sorted_eigenval, sorted_eigenvec, alpha)\n",
        "    print(proj_mat.shape)\n",
        "    # reduction of training and testing data\n",
        "    reduced_training = training_data @ proj_mat\n",
        "    reduced_testing = testing_data @ proj_mat\n",
        "\n",
        "    knn = KNeighborsClassifier(n_neighbors=1)\n",
        "    knn.fit(reduced_training, training_labels)\n",
        "\n",
        "    accuracy_list.append(\n",
        "        accuracy_score(testing_labels, knn.predict(reduced_testing))\n",
        "    )\n",
        "  return accuracy_list , knn.predict(reduced_testing)\n",
        "\n"
      ]
    },
    {
      "cell_type": "code",
      "execution_count": null,
      "metadata": {
        "colab": {
          "base_uri": "https://localhost:8080/"
        },
        "id": "7VlxAAxdfz_s",
        "outputId": "3943cc94-90a5-44c6-eb91-9b648aaae417"
      },
      "outputs": [
        {
          "name": "stdout",
          "output_type": "stream",
          "text": [
            "(10304, 11)\n",
            "(10304, 17)\n",
            "(10304, 27)\n",
            "(10304, 44)\n",
            "(10304, 75)\n",
            "(10304, 138)\n",
            "(10304, 400)\n",
            "[0.94, 0.9425, 0.9375, 0.94, 0.9475, 0.9475, 0.9425]\n"
          ]
        }
      ],
      "source": [
        "alpha_list = [0.70, 0.75, 0.8, .85, .9, .95, 1]\n",
        "accuracy_list , predict_labels = classify_faces(sorted_eigenval,\n",
        "                                                  sorted_eigenvec,\n",
        "                                                  datamix,\n",
        "                                                  data_test,\n",
        "                                                  labels2,\n",
        "                                                  labels_test,\n",
        "                                                  alpha_list,)\n",
        "print(accuracy_list)"
      ]
    },
    {
      "cell_type": "code",
      "execution_count": null,
      "metadata": {
        "id": "ueLupWbJDPlb"
      },
      "outputs": [],
      "source": [
        "#To show the casses which success and failure\n",
        "def show_success_failure(predict_labels,labels,data):\n",
        "  for i in range(len(labels)):\n",
        "    if(predict_labels[i] != labels[i]):\n",
        "      # print (\"Classification success\")\n",
        "      # plt.imshow(data[i].reshape(112, 92), cmap='gray')\n",
        "      # plt.show()\n",
        "    # else:\n",
        "      print (\"Classification Failure\")\n",
        "      plt.imshow(data[i].reshape(112, 92), cmap='gray')\n",
        "      plt.show()"
      ]
    },
    {
      "cell_type": "code",
      "execution_count": null,
      "metadata": {
        "id": "xjuYn469EWGD"
      },
      "outputs": [],
      "source": [
        "show_success_failure(predict_labels,labels_test,data_test)"
      ]
    },
    {
      "cell_type": "code",
      "execution_count": null,
      "metadata": {
        "colab": {
          "base_uri": "https://localhost:8080/"
        },
        "id": "bP6d6XjHHfsw",
        "outputId": "264a1437-97bf-4302-ef74-95e41018f88e"
      },
      "outputs": [
        {
          "name": "stdout",
          "output_type": "stream",
          "text": [
            "(10304, 76)\n",
            "(10304, 76)\n",
            "(10304, 76)\n",
            "(10304, 76)\n",
            "(10304, 76)\n"
          ]
        }
      ],
      "source": [
        "# Try different number of non faces\n",
        "numbers = [40, 80, 120, 160, 200]\n",
        "list_accuracy = []\n",
        "for i in numbers:\n",
        "  datamix, labels2, data_test, labels_test = get_datamix(200, i, data_faces, data_nonFace)\n",
        "  sorted_eigenval, sorted_eigenvec = pca(datamix)\n",
        "  alpha_list = [0.9]\n",
        "  accuracy_list , predict_labels = classify_faces(sorted_eigenval,\n",
        "                                                  sorted_eigenvec,\n",
        "                                                  datamix,\n",
        "                                                  data_test,\n",
        "                                                  labels2,\n",
        "                                                  labels_test,\n",
        "                                                  alpha_list,)\n",
        "  list_accuracy.append(accuracy_list[0])"
      ]
    },
    {
      "cell_type": "code",
      "execution_count": null,
      "metadata": {
        "colab": {
          "base_uri": "https://localhost:8080/"
        },
        "id": "xGJFB8paIo7P",
        "outputId": "015aa0fe-fd9a-4608-c0da-afb33de61ed0"
      },
      "outputs": [
        {
          "data": {
            "text/plain": [
              "[0.9741379310344828, 0.9727272727272728, 0.9754716981132076, 0.975, 0.976]"
            ]
          },
          "execution_count": 50,
          "metadata": {},
          "output_type": "execute_result"
        }
      ],
      "source": [
        "list_accuracy"
      ]
    },
    {
      "cell_type": "code",
      "execution_count": null,
      "metadata": {
        "colab": {
          "base_uri": "https://localhost:8080/",
          "height": 472
        },
        "id": "wbKGfdbQHEs8",
        "outputId": "98e2ca70-3c4f-498a-ee33-6087cf315360"
      },
      "outputs": [
        {
          "data": {
            "image/png": "[encoded data removed]",
            "text/plain": [
              "<Figure size 640x480 with 1 Axes>"
            ]
          },
          "metadata": {},
          "output_type": "display_data"
        }
      ],
      "source": [
        "#Plot the accuracy vs the number of non faces\n",
        "\n",
        "# Sample data\n",
        "x = numbers\n",
        "y = list_accuracy\n",
        "\n",
        "# Plot the data\n",
        "plt.plot(x, y)\n",
        "\n",
        "# Add labels and title\n",
        "plt.xlabel('X-axis')\n",
        "plt.ylabel('Y-axis')\n",
        "plt.title('Simple Plot')\n",
        "\n",
        "# Show the plot\n",
        "plt.show()"
      ]
    }
  ],
  "metadata": {
    "colab": {
      "provenance": []
    },
    "kernelspec": {
      "display_name": "Python 3",
      "name": "python3"
    },
    "language_info": {
      "name": "python"
    }
  },
  "nbformat": 4,
  "nbformat_minor": 0
}